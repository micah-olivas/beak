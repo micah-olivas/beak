{
 "cells": [
  {
   "cell_type": "code",
   "execution_count": 2,
   "id": "60f28aaf",
   "metadata": {},
   "outputs": [],
   "source": [
    "%load_ext autoreload\n",
    "%autoreload 2\n",
    "\n",
    "import beak.remote.utils"
   ]
  },
  {
   "cell_type": "markdown",
   "id": "4189bc7e",
   "metadata": {},
   "source": [
    "First, nest!"
   ]
  },
  {
   "cell_type": "code",
   "execution_count": 8,
   "id": "a7a327ea",
   "metadata": {},
   "outputs": [
    {
     "name": "stdout",
     "output_type": "stream",
     "text": [
      "Connecting to shr-zion.stanford.edu...\n",
      "Connection successful\n",
      "\n",
      "🪺 Nesting! Let's check your home directory on the remote...\n",
      "\n",
      "==== 1. Conda ==== \n",
      "\n",
      "\n",
      " * Documentation:  https://help.ubuntu.com\n",
      "\n",
      " * Management:     https://landscape.canonical.com\n",
      "\n",
      " * Support:        https://ubuntu.com/advantage\n",
      "\n",
      "\n",
      "\n",
      "  System information as of Sun Apr 27 11:54:56 PM UTC 2025\n",
      "\n",
      "\n",
      "\n",
      "  System load:  0.03271484375     Processes:                458\n",
      "\n",
      "  Usage of /:   55.6% of 1.73TB   Users logged in:          1\n",
      "\n",
      "  Memory usage: 0%                IPv4 address for docker0: 172.17.0.1\n",
      "\n",
      "  Swap usage:   0%                IPv4 address for enp5s0:  171.64.52.25\n",
      "\n",
      "  Temperature:  32.0 C\n",
      "\n",
      "\n",
      "\n",
      " * Strictly confined Kubernetes makes edge and IoT secure. Learn how MicroK8s\n",
      "\n",
      "   just raised the bar for easy, resilient and secure K8s cluster deployment.\n",
      "\n",
      "\n",
      "\n",
      "   https://ubuntu.com/engage/secure-kubernetes-at-the-edge\n",
      "\n",
      "\n",
      "\n",
      "Expanded Security Maintenance for Applications is not enabled.\n",
      "\n",
      "\n",
      "\n",
      "157 updates can be applied immediately.\n",
      "\n",
      "To see these additional updates run: apt list --upgradable\n",
      "\n",
      "\n",
      "\n",
      "2 additional security updates can be applied with ESM Apps.\n",
      "\n",
      "Learn more about enabling ESM Apps service at https://ubuntu.com/esm\n",
      "\n",
      "\n",
      "\n",
      "New release '24.04.2 LTS' available.\n",
      "\n",
      "Run 'do-release-upgrade' to upgrade to it.\n",
      "\n",
      "\n",
      "\n",
      "\n",
      "\n",
      "Last login: Sun Apr 27 23:45:15 2025 from 10.130.78.76\n",
      "\n",
      "\n",
      "\n",
      "\u001b[?2004h(base) \u001b]0;mbolivas@zion: ~\u0007\u001b[01;32mmbolivas@zion\u001b[00m:\u001b[01;34m~\u001b[00m$ which conda\n",
      "\n",
      "\u001b[?2004l\n",
      "\n",
      "Conda is already installed on the remote server.\n",
      "\n",
      "==== 2. Check beak Conda Environment ==== \n",
      "got here\n",
      "done with write! cmd: ls $HOME/anaconda3/envs\n",
      "done with flush! cmd: ls $HOME/anaconda3/envs\n",
      "/home/mbolivas/anaconda3/bin/conda\n",
      "\n",
      "\u001b[?2004h(base) \u001b]0;mbolivas@zion: ~\u0007\u001b[01;32mmbolivas@zion\u001b[00m:\u001b[01;34m~\u001b[00m$ ls $HOME/anaconda3/envs\n",
      "\n",
      "\u001b[?2004l\n",
      "\n",
      "\u001b[0m\u001b[01;37malphafold\u001b[0m  \u001b[01;37mbeak\u001b[0m  \u001b[01;37mESM\u001b[0m  \u001b[01;37mProGen2-collab\u001b[0m  \u001b[01;37mtest\u001b[0m\n",
      "\n"
     ]
    },
    {
     "ename": "KeyboardInterrupt",
     "evalue": "",
     "output_type": "error",
     "traceback": [
      "\u001b[0;31m---------------------------------------------------------------------------\u001b[0m",
      "\u001b[0;31mKeyboardInterrupt\u001b[0m                         Traceback (most recent call last)",
      "Input \u001b[0;32mIn [8]\u001b[0m, in \u001b[0;36m<cell line: 2>\u001b[0;34m()\u001b[0m\n\u001b[1;32m      1\u001b[0m beak\u001b[38;5;241m.\u001b[39mremote\u001b[38;5;241m.\u001b[39mutils\u001b[38;5;241m.\u001b[39mauthenticate(user\u001b[38;5;241m=\u001b[39m\u001b[38;5;124m'\u001b[39m\u001b[38;5;124mmbolivas\u001b[39m\u001b[38;5;124m'\u001b[39m, host\u001b[38;5;241m=\u001b[39m\u001b[38;5;124m'\u001b[39m\u001b[38;5;124mshr-zion.stanford.edu\u001b[39m\u001b[38;5;124m'\u001b[39m)\n\u001b[0;32m----> 2\u001b[0m \u001b[43mbeak\u001b[49m\u001b[38;5;241;43m.\u001b[39;49m\u001b[43mremote\u001b[49m\u001b[38;5;241;43m.\u001b[39;49m\u001b[43mutils\u001b[49m\u001b[38;5;241;43m.\u001b[39;49m\u001b[43mnest\u001b[49m\u001b[43m(\u001b[49m\u001b[43m)\u001b[49m\n",
      "File \u001b[0;32m~/repos/beak/beak/remote/utils.py:231\u001b[0m, in \u001b[0;36mnest\u001b[0;34m()\u001b[0m\n\u001b[1;32m    229\u001b[0m \u001b[38;5;66;03m# Use a shorter timeout to avoid stalling if the remote command hangs\u001b[39;00m\n\u001b[1;32m    230\u001b[0m \u001b[38;5;28mprint\u001b[39m(\u001b[38;5;124m'\u001b[39m\u001b[38;5;124mgot here\u001b[39m\u001b[38;5;124m'\u001b[39m)\n\u001b[0;32m--> 231\u001b[0m check_env \u001b[38;5;241m=\u001b[39m \u001b[43mssend\u001b[49m\u001b[43m(\u001b[49m\u001b[38;5;124;43m\"\u001b[39;49m\u001b[38;5;124;43mconda env list | grep \u001b[39;49m\u001b[38;5;130;43;01m\\'\u001b[39;49;00m\u001b[38;5;124;43mbeak\u001b[39;49m\u001b[38;5;130;43;01m\\'\u001b[39;49;00m\u001b[38;5;124;43m\"\u001b[39;49m\u001b[43m,\u001b[49m\u001b[43m \u001b[49m\u001b[43msshProc\u001b[49m\u001b[43m,\u001b[49m\u001b[43m \u001b[49m\u001b[43merror_reporting\u001b[49m\u001b[38;5;241;43m=\u001b[39;49m\u001b[38;5;28;43;01mTrue\u001b[39;49;00m\u001b[43m)\u001b[49m\n\u001b[1;32m    233\u001b[0m \u001b[38;5;28;01mif\u001b[39;00m \u001b[38;5;124m\"\u001b[39m\u001b[38;5;124mbeak\u001b[39m\u001b[38;5;124m\"\u001b[39m \u001b[38;5;129;01mnot\u001b[39;00m \u001b[38;5;129;01min\u001b[39;00m check_env:\n\u001b[1;32m    234\u001b[0m     \u001b[38;5;28mprint\u001b[39m(\u001b[38;5;124m\"\u001b[39m\u001b[38;5;124mbeak environment not found. Creating beak environment...\u001b[39m\u001b[38;5;124m\"\u001b[39m)\n",
      "File \u001b[0;32m~/repos/beak/beak/remote/utils.py:137\u001b[0m, in \u001b[0;36mssend\u001b[0;34m(cmd, sshProc, timeout, error_reporting)\u001b[0m\n\u001b[1;32m    135\u001b[0m rlist, _, _ \u001b[38;5;241m=\u001b[39m select\u001b[38;5;241m.\u001b[39mselect([sshProc\u001b[38;5;241m.\u001b[39mstdout], [], [], \u001b[38;5;241m0.1\u001b[39m)\n\u001b[1;32m    136\u001b[0m \u001b[38;5;28;01mif\u001b[39;00m rlist:\n\u001b[0;32m--> 137\u001b[0m     line \u001b[38;5;241m=\u001b[39m \u001b[43msshProc\u001b[49m\u001b[38;5;241;43m.\u001b[39;49m\u001b[43mstdout\u001b[49m\u001b[38;5;241;43m.\u001b[39;49m\u001b[43mreadline\u001b[49m\u001b[43m(\u001b[49m\u001b[43m)\u001b[49m\n\u001b[1;32m    138\u001b[0m     \u001b[38;5;28mprint\u001b[39m(line)\n\u001b[1;32m    139\u001b[0m     \u001b[38;5;28;01mif\u001b[39;00m \u001b[38;5;129;01mnot\u001b[39;00m line:\n",
      "\u001b[0;31mKeyboardInterrupt\u001b[0m: "
     ]
    }
   ],
   "source": [
    "beak.remote.utils.authenticate(user='mbolivas', host='shr-zion.stanford.edu')\n",
    "beak.remote.utils.nest()"
   ]
  },
  {
   "cell_type": "code",
   "execution_count": null,
   "id": "4ae5a01d",
   "metadata": {},
   "outputs": [],
   "source": []
  },
  {
   "cell_type": "code",
   "execution_count": 4,
   "id": "7c5595ce",
   "metadata": {},
   "outputs": [
    {
     "name": "stdout",
     "output_type": "stream",
     "text": [
      "Connecting to shr-zion.stanford.edu...\n"
     ]
    },
    {
     "name": "stdout",
     "output_type": "stream",
     "text": [
      "Connection successful\n",
      "\n",
      "Ensuring remote temp directory exists...\n",
      "Writing sequence to remote FASTA file...\n",
      "Preparing output directory on remote...\n",
      "Running mmseqs2 search on remote...\n",
      "Retrieving result file from remote...\n"
     ]
    },
    {
     "ename": "RuntimeError",
     "evalue": "SCP from remote failed: scp: temp_beak/mmseqs_out/result.m8: No such file or directory\n",
     "output_type": "error",
     "traceback": [
      "\u001b[0;31m---------------------------------------------------------------------------\u001b[0m",
      "\u001b[0;31mRuntimeError\u001b[0m                              Traceback (most recent call last)",
      "Input \u001b[0;32mIn [4]\u001b[0m, in \u001b[0;36m<cell line: 2>\u001b[0;34m()\u001b[0m\n\u001b[1;32m      1\u001b[0m my_seq \u001b[38;5;241m=\u001b[39m \u001b[38;5;124m'\u001b[39m\u001b[38;5;124mMSTAQSLKSVDYEVFGRVQGVCFRMYTEDEARKIGVVGWVKNTSKGTVTGQVQGPEDKVNSMKSWLSKVGSPSSRIDRTNFSNEKTISKLEYSNFSIRY\u001b[39m\u001b[38;5;124m'\u001b[39m\n\u001b[0;32m----> 2\u001b[0m \u001b[43mbeak\u001b[49m\u001b[38;5;241;43m.\u001b[39;49m\u001b[43mremote\u001b[49m\u001b[38;5;241;43m.\u001b[39;49m\u001b[43mutils\u001b[49m\u001b[38;5;241;43m.\u001b[39;49m\u001b[43msearch\u001b[49m\u001b[43m(\u001b[49m\u001b[43mmy_seq\u001b[49m\u001b[43m)\u001b[49m\n",
      "File \u001b[0;32m~/repos/beak/beak/remote/utils.py:350\u001b[0m, in \u001b[0;36msearch\u001b[0;34m(query, db_path, remote_dir, sshProc)\u001b[0m\n\u001b[1;32m    348\u001b[0m \u001b[38;5;28mprint\u001b[39m(\u001b[38;5;124m\"\u001b[39m\u001b[38;5;124mRetrieving result file from remote...\u001b[39m\u001b[38;5;124m\"\u001b[39m)\n\u001b[1;32m    349\u001b[0m local_result \u001b[38;5;241m=\u001b[39m \u001b[38;5;124m\"\u001b[39m\u001b[38;5;124mmmseqs_result.m8\u001b[39m\u001b[38;5;124m\"\u001b[39m\n\u001b[0;32m--> 350\u001b[0m \u001b[43mscp_from_remote\u001b[49m\u001b[43m(\u001b[49m\u001b[38;5;124;43mf\u001b[39;49m\u001b[38;5;124;43m\"\u001b[39;49m\u001b[38;5;132;43;01m{\u001b[39;49;00m\u001b[43mremote_out\u001b[49m\u001b[38;5;132;43;01m}\u001b[39;49;00m\u001b[38;5;124;43m/result.m8\u001b[39;49m\u001b[38;5;124;43m\"\u001b[39;49m\u001b[43m,\u001b[49m\u001b[43m \u001b[49m\u001b[43mlocal_result\u001b[49m\u001b[43m,\u001b[49m\u001b[43m \u001b[49m\u001b[38;5;124;43m\"\u001b[39;49m\u001b[38;5;124;43mshr-zion.stanford.edu\u001b[39;49m\u001b[38;5;124;43m\"\u001b[39;49m\u001b[43m,\u001b[49m\u001b[43m \u001b[49m\u001b[43mUSER\u001b[49m\u001b[43m,\u001b[49m\u001b[43m \u001b[49m\u001b[43mPASSWORD\u001b[49m\u001b[43m)\u001b[49m\n\u001b[1;32m    352\u001b[0m \u001b[38;5;28mprint\u001b[39m(\u001b[38;5;124mf\u001b[39m\u001b[38;5;124m\"\u001b[39m\u001b[38;5;124mResults saved to \u001b[39m\u001b[38;5;132;01m{\u001b[39;00mlocal_result\u001b[38;5;132;01m}\u001b[39;00m\u001b[38;5;124m\"\u001b[39m)\n\u001b[1;32m    353\u001b[0m \u001b[38;5;28;01mreturn\u001b[39;00m output\n",
      "File \u001b[0;32m~/repos/beak/beak/remote/utils.py:189\u001b[0m, in \u001b[0;36mscp_from_remote\u001b[0;34m(remote_path, local_path, HOST, USER, PASSWORD)\u001b[0m\n\u001b[1;32m    187\u001b[0m result \u001b[38;5;241m=\u001b[39m subprocess\u001b[38;5;241m.\u001b[39mrun(scp_cmd, capture_output\u001b[38;5;241m=\u001b[39m\u001b[38;5;28;01mTrue\u001b[39;00m, text\u001b[38;5;241m=\u001b[39m\u001b[38;5;28;01mTrue\u001b[39;00m)\n\u001b[1;32m    188\u001b[0m \u001b[38;5;28;01mif\u001b[39;00m result\u001b[38;5;241m.\u001b[39mreturncode \u001b[38;5;241m!=\u001b[39m \u001b[38;5;241m0\u001b[39m:\n\u001b[0;32m--> 189\u001b[0m     \u001b[38;5;28;01mraise\u001b[39;00m \u001b[38;5;167;01mRuntimeError\u001b[39;00m(\u001b[38;5;124mf\u001b[39m\u001b[38;5;124m\"\u001b[39m\u001b[38;5;124mSCP from remote failed: \u001b[39m\u001b[38;5;132;01m{\u001b[39;00mresult\u001b[38;5;241m.\u001b[39mstderr\u001b[38;5;132;01m}\u001b[39;00m\u001b[38;5;124m\"\u001b[39m)\n\u001b[1;32m    190\u001b[0m \u001b[38;5;28;01mreturn\u001b[39;00m result\n",
      "\u001b[0;31mRuntimeError\u001b[0m: SCP from remote failed: scp: temp_beak/mmseqs_out/result.m8: No such file or directory\n"
     ]
    }
   ],
   "source": [
    "my_seq = 'MSTAQSLKSVDYEVFGRVQGVCFRMYTEDEARKIGVVGWVKNTSKGTVTGQVQGPEDKVNSMKSWLSKVGSPSSRIDRTNFSNEKTISKLEYSNFSIRY'\n",
    "beak.remote.utils.search(my_seq)"
   ]
  },
  {
   "cell_type": "code",
   "execution_count": null,
   "id": "73e3095d",
   "metadata": {},
   "outputs": [],
   "source": []
  },
  {
   "cell_type": "code",
   "execution_count": null,
   "id": "cf7a39a2",
   "metadata": {},
   "outputs": [],
   "source": [
    "seq = ['ASQQSDDSSRT']\n",
    "beak.remote.utils.esm_single_sequence(seq)"
   ]
  }
 ],
 "metadata": {
  "kernelspec": {
   "display_name": "base",
   "language": "python",
   "name": "python3"
  },
  "language_info": {
   "codemirror_mode": {
    "name": "ipython",
    "version": 3
   },
   "file_extension": ".py",
   "mimetype": "text/x-python",
   "name": "python",
   "nbconvert_exporter": "python",
   "pygments_lexer": "ipython3",
   "version": "3.8.11"
  }
 },
 "nbformat": 4,
 "nbformat_minor": 5
}
